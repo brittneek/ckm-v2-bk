{
 "cells": [
  {
   "cell_type": "code",
   "execution_count": null,
   "metadata": {},
   "outputs": [],
   "source": [
    "key_vault_name = 'kv_to-be-replaced'"
   ]
  },
  {
   "cell_type": "code",
   "execution_count": null,
   "metadata": {},
   "outputs": [],
   "source": [
    "from trident_token_library_wrapper import PyTridentTokenLibrary as tl\n",
    "\n",
    "def get_secrets_from_kv(kv_name, secret_name):\n",
    "\n",
    "    access_token = mssparkutils.credentials.getToken(\"keyvault\")\n",
    "    kv_endpoint = f'https://{kv_name}.vault.azure.net/'\n",
    "    return(tl.get_secret_with_token(kv_endpoint,secret_name,access_token))\n",
    "\n",
    "openai_api_type = \"azure\"\n",
    "openai_api_version  = get_secrets_from_kv(key_vault_name,\"AZURE-OPENAI-VERSION\")\n",
    "openai_api_base = get_secrets_from_kv(key_vault_name,\"AZURE-OPENAI-ENDPOINT\")\n",
    "openai_api_key = get_secrets_from_kv(key_vault_name,\"AZURE-OPENAI-KEY\")"
   ]
  }
 ],
 "metadata": {
  "language_info": {
   "name": "python"
  }
 },
 "nbformat": 4,
 "nbformat_minor": 2
}
